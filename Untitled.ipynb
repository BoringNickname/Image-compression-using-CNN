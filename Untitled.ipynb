{
 "cells": [
  {
   "cell_type": "code",
   "execution_count": 1,
   "id": "1bd4ca07",
   "metadata": {},
   "outputs": [],
   "source": [
    "\"\"\"Adapted from https://debuggercafe.com/implementing-deep-autoencoder-in-pytorch/\"\"\"\n",
    "import numpy as np\n",
    "import matplotlib.pyplot as plt\n",
    "import torch.nn as nn\n",
    "import torch\n",
    "import torchvision\n",
    "import torch.nn.functional as F\n",
    "from torch.utils.data import Dataset, DataLoader, TensorDataset\n",
    "from PIL import Image\n",
    "from torchvision.utils import save_image\n",
    "import os\n",
    "from scipy.stats import chi2"
   ]
  },
  {
   "cell_type": "code",
   "execution_count": 2,
   "id": "beccc6dd",
   "metadata": {},
   "outputs": [],
   "source": [
    "class Autoencoder(nn.Module):\n",
    "    def __init__(self):\n",
    "        super().__init__()\n",
    "\n",
    "        feats = len(np.ravel(x_data[0]))\n",
    "        \n",
    "        self.enc1 = nn.Conv2d(1,5,(5,5), padding = 2)\n",
    "        self.enc2 = nn.Conv2d(5,15,(5,5), padding = 2)\n",
    "        \n",
    "        self.fc1 = nn.Linear(5*5*15, 100)\n",
    "        self.fc2 = nn.Linear(100,20)\n",
    "        self.fc3 = nn.Linear(20,2)\n",
    "#         self.enc2 = nn.Conv2D(1,1,(3,3))\n",
    "\n",
    "    def forward(self,x):\n",
    "        x = F.relu(self.enc1(x))\n",
    "        print(x.shape)\n",
    "        x = F.max_pool2d(x, 2,2)\n",
    "        print(x.shape)\n",
    "        x = F.relu(self.enc2(x))\n",
    "        print(x.shape)\n",
    "        x = F.max_pool2d(x,2,2)\n",
    "        print(x.shape)\n",
    "        x = x.view(-1, 5*5*15)\n",
    "        print(x.shape)\n",
    "        x = F.relu(self.fc1(x))\n",
    "        print(x.shape)\n",
    "        x = F.relu(self.fc2(x))\n",
    "        print(x.shape)\n",
    "        x = self.fc3(x)\n",
    "        print(x.shape)\n",
    "        return F.log_softmax(x, dim=1)"
   ]
  },
  {
   "cell_type": "code",
   "execution_count": 3,
   "id": "18009fe5",
   "metadata": {},
   "outputs": [],
   "source": [
    "def generate_signals(shape):\n",
    "    \"\"\"generates a noisy signal of a random freuency\n",
    "    \"\"\"\n",
    "    signal = np.zeros(shape)\n",
    "    row = np.random.randint(0, shape[-1])\n",
    "    signal[row] = 1\n",
    "    return signal\n",
    "\n",
    "def generate_noise_templates(arr, shape):\n",
    "    \"\"\"\n",
    "    returns a normalized noisy version of a given signal\n",
    "    \"\"\"\n",
    "    df = 1\n",
    "    noise_layers = []\n",
    "    for i in range(shape[0]):\n",
    "        noise_layers.append(np.array(chi2.rvs(df, size = shape[0])))\n",
    "    noise = np.stack(noise_layers)/np.amax(np.stack(noise_layers))\n",
    "    noisy_signal = arr+noise\n",
    "    return noisy_signal/np.amax(noisy_signal)\n",
    "\n",
    "def gen_data(shape):\n",
    "    x_data, y_data = [], []\n",
    "    for i in range(100):\n",
    "        signal = generate_signals(shape)\n",
    "        y_data.append(signal)\n",
    "        x_data.append(generate_noise_templates(signal, shape))\n",
    "    return x_data, y_data\n",
    "\n",
    "transform = torchvision.transforms.Compose([\n",
    "    torchvision.transforms.ToTensor(),\n",
    "])"
   ]
  },
  {
   "cell_type": "code",
   "execution_count": null,
   "id": "8b01f7b9",
   "metadata": {},
   "outputs": [],
   "source": []
  }
 ],
 "metadata": {
  "kernelspec": {
   "display_name": "Python 3",
   "language": "python",
   "name": "python3"
  },
  "language_info": {
   "codemirror_mode": {
    "name": "ipython",
    "version": 3
   },
   "file_extension": ".py",
   "mimetype": "text/x-python",
   "name": "python",
   "nbconvert_exporter": "python",
   "pygments_lexer": "ipython3",
   "version": "3.6.13"
  }
 },
 "nbformat": 4,
 "nbformat_minor": 5
}
