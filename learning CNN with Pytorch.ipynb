{
 "cells": [
  {
   "cell_type": "code",
   "execution_count": 43,
   "id": "2df19148",
   "metadata": {},
   "outputs": [],
   "source": [
    "import torch\n",
    "import torch.nn as nn\n",
    "import torch.nn.functional as F\n",
    "\n",
    "from torch.utils.data import DataLoader\n",
    "from torchvision import datasets, transforms\n",
    "\n",
    "import numpy as np\n",
    "import pandas as pd\n",
    "from sklearn.metrics import confusion_matrix\n",
    "import matplotlib.pyplot as plt\n",
    "%matplotlib inline"
   ]
  },
  {
   "cell_type": "code",
   "execution_count": 45,
   "id": "a9845fbd",
   "metadata": {},
   "outputs": [
    {
     "data": {
      "text/plain": [
       "0"
      ]
     },
     "execution_count": 45,
     "metadata": {},
     "output_type": "execute_result"
    }
   ],
   "source": [
    "torch.cuda.memory_cached()\n"
   ]
  },
  {
   "cell_type": "code",
   "execution_count": 50,
   "id": "5bfa8222",
   "metadata": {},
   "outputs": [
    {
     "ename": "TypeError",
     "evalue": "object() takes no parameters",
     "output_type": "error",
     "traceback": [
      "\u001b[1;31m---------------------------------------------------------------------------\u001b[0m",
      "\u001b[1;31mTypeError\u001b[0m                                 Traceback (most recent call last)",
      "\u001b[1;32m<ipython-input-50-469f28bf1ca3>\u001b[0m in \u001b[0;36m<module>\u001b[1;34m\u001b[0m\n\u001b[0;32m      1\u001b[0m \u001b[1;31m# transform = transforms.ToTensor()\u001b[0m\u001b[1;33m\u001b[0m\u001b[1;33m\u001b[0m\u001b[1;33m\u001b[0m\u001b[0m\n\u001b[0;32m      2\u001b[0m \u001b[0mtrain_data\u001b[0m \u001b[1;33m=\u001b[0m \u001b[0mdatasets\u001b[0m\u001b[1;33m.\u001b[0m\u001b[0mMNIST\u001b[0m\u001b[1;33m(\u001b[0m\u001b[0mroot\u001b[0m \u001b[1;33m=\u001b[0m \u001b[1;34m'./'\u001b[0m\u001b[1;33m,\u001b[0m \u001b[0mtrain\u001b[0m\u001b[1;33m=\u001b[0m\u001b[1;32mTrue\u001b[0m\u001b[1;33m,\u001b[0m \u001b[0mdownload\u001b[0m \u001b[1;33m=\u001b[0m \u001b[1;32mTrue\u001b[0m\u001b[1;33m,\u001b[0m \u001b[0mtransform\u001b[0m \u001b[1;33m=\u001b[0m \u001b[0mtransform\u001b[0m\u001b[1;33m)\u001b[0m\u001b[1;33m\u001b[0m\u001b[1;33m\u001b[0m\u001b[0m\n\u001b[1;32m----> 3\u001b[1;33m \u001b[0mtype\u001b[0m\u001b[1;33m(\u001b[0m\u001b[0mtransforms\u001b[0m\u001b[1;33m.\u001b[0m\u001b[0mToTensor\u001b[0m\u001b[1;33m(\u001b[0m\u001b[0mtrain_data\u001b[0m\u001b[1;33m)\u001b[0m\u001b[1;33m)\u001b[0m\u001b[1;33m\u001b[0m\u001b[1;33m\u001b[0m\u001b[0m\n\u001b[0m",
      "\u001b[1;31mTypeError\u001b[0m: object() takes no parameters"
     ]
    }
   ],
   "source": [
    "# transform = transforms.ToTensor()\n",
    "train_data = datasets.MNIST(root = './', train=True, download = True, transform = transform)"
   ]
  },
  {
   "cell_type": "code",
   "execution_count": 40,
   "id": "c32e6af4",
   "metadata": {},
   "outputs": [],
   "source": [
    "test_data = datasets.MNIST(root= './', train=False, download = True, transform = transform)"
   ]
  },
  {
   "cell_type": "code",
   "execution_count": 41,
   "id": "15ae2eae",
   "metadata": {},
   "outputs": [
    {
     "data": {
      "text/plain": [
       "True"
      ]
     },
     "execution_count": 41,
     "metadata": {},
     "output_type": "execute_result"
    }
   ],
   "source": [
    " "
   ]
  },
  {
   "cell_type": "code",
   "execution_count": 4,
   "id": "50e5fbfb",
   "metadata": {},
   "outputs": [],
   "source": [
    "train_loader = DataLoader(train_data, batch_size = 100, shuffle = True)\n",
    "test_loader = DataLoader(test_data, batch_size = 100, shuffle = False)\n",
    "\n",
    "from torchvision.utils import make_grid\n",
    "np.set_printoptions(formatter=dict(int=lambda x: f'{x:4}'))"
   ]
  },
  {
   "cell_type": "code",
   "execution_count": 5,
   "id": "1a2fb3d2",
   "metadata": {},
   "outputs": [],
   "source": [
    "for images, labels in train_loader:\n",
    "    break"
   ]
  },
  {
   "cell_type": "code",
   "execution_count": 6,
   "id": "a4ce8712",
   "metadata": {},
   "outputs": [],
   "source": [
    "class CNN(nn.Module):\n",
    "    \n",
    "    def __init__(self, in_sz = 784, out_sz = 10, layers = [120,84]):\n",
    "        super().__init__()\n",
    "        \n",
    "        self.fc1 = nn.Linear(in_sz, layers[0])\n",
    "        self.fc2 = nn.Linear(layers[0], layers[1])\n",
    "        self.fc3 = nn.Linear(layers[1], out_sz)\n",
    "        \n",
    "    def forward(self,x):\n",
    "        x = F.relu(self.fc1(x))\n",
    "        x = F.relu(self.fc2(x))\n",
    "        x = self.fc3(x)\n",
    "        \n",
    "        return F.log_softmax(x, dim=1)"
   ]
  },
  {
   "cell_type": "code",
   "execution_count": 54,
   "id": "d87a1d74",
   "metadata": {},
   "outputs": [
    {
     "name": "stdout",
     "output_type": "stream",
     "text": [
      "True\n",
      "CNN(\n",
      "  (fc1): Linear(in_features=784, out_features=120, bias=True)\n",
      "  (fc2): Linear(in_features=120, out_features=84, bias=True)\n",
      "  (fc3): Linear(in_features=84, out_features=10, bias=True)\n",
      ")\n"
     ]
    },
    {
     "data": {
      "text/plain": [
       "tensor([[0., 0., 0.,  ..., 0., 0., 0.],\n",
       "        [0., 0., 0.,  ..., 0., 0., 0.],\n",
       "        [0., 0., 0.,  ..., 0., 0., 0.],\n",
       "        ...,\n",
       "        [0., 0., 0.,  ..., 0., 0., 0.],\n",
       "        [0., 0., 0.,  ..., 0., 0., 0.],\n",
       "        [0., 0., 0.,  ..., 0., 0., 0.]])"
      ]
     },
     "execution_count": 54,
     "metadata": {},
     "output_type": "execute_result"
    }
   ],
   "source": [
    "model = CNN()\n",
    "\n",
    "gpumodel = model.cuda()\n",
    "print(next(gpumodel.parameters()).is_cuda)\n",
    "print(model)\n",
    "criterion = nn.CrossEntropyLoss()\n",
    "optimizer = torch.optim.Adam(model.parameters(), lr = 1e-3)\n",
    "\n",
    "images.view(100, -1)"
   ]
  },
  {
   "cell_type": "code",
   "execution_count": 8,
   "id": "e2506185",
   "metadata": {},
   "outputs": [
    {
     "name": "stdout",
     "output_type": "stream",
     "text": [
      "Epoch 0 batch 200 loss: 0.29028379917144775 accuracy: 82.465\n",
      "Epoch 0 batch 400 loss: 0.33517369627952576 accuracy: 87.2325\n",
      "Epoch 0 batch 600 loss: 0.21639135479927063 accuracy: 89.39333333333333\n",
      "Epoch 1 batch 200 loss: 0.14989019930362701 accuracy: 94.87\n",
      "Epoch 1 batch 400 loss: 0.14257687330245972 accuracy: 95.175\n",
      "Epoch 1 batch 600 loss: 0.07026278972625732 accuracy: 95.445\n",
      "Epoch 2 batch 200 loss: 0.1807919442653656 accuracy: 96.39\n",
      "Epoch 2 batch 400 loss: 0.027944209054112434 accuracy: 96.5875\n",
      "Epoch 2 batch 600 loss: 0.1363254189491272 accuracy: 96.75833333333334\n",
      "Epoch 3 batch 200 loss: 0.28055787086486816 accuracy: 97.505\n",
      "Epoch 3 batch 400 loss: 0.05271807685494423 accuracy: 97.5375\n",
      "Epoch 3 batch 600 loss: 0.10370839387178421 accuracy: 97.51833333333333\n",
      "Epoch 4 batch 200 loss: 0.0944184809923172 accuracy: 98.09\n",
      "Epoch 4 batch 400 loss: 0.0371786504983902 accuracy: 98.0425\n",
      "Epoch 4 batch 600 loss: 0.04599601402878761 accuracy: 97.95333333333333\n",
      "Epoch 5 batch 200 loss: 0.02261880226433277 accuracy: 98.44\n",
      "Epoch 5 batch 400 loss: 0.05082164332270622 accuracy: 98.45\n",
      "Epoch 5 batch 600 loss: 0.019306983798742294 accuracy: 98.41166666666666\n",
      "Epoch 6 batch 200 loss: 0.07764929533004761 accuracy: 98.72\n",
      "Epoch 6 batch 400 loss: 0.0805266872048378 accuracy: 98.6275\n",
      "Epoch 6 batch 600 loss: 0.07964130491018295 accuracy: 98.57\n",
      "Epoch 7 batch 200 loss: 0.04586310684680939 accuracy: 98.86\n",
      "Epoch 7 batch 400 loss: 0.0345548614859581 accuracy: 98.82\n",
      "Epoch 7 batch 600 loss: 0.06578177958726883 accuracy: 98.805\n",
      "Epoch 8 batch 200 loss: 0.021024417132139206 accuracy: 99.215\n",
      "Epoch 8 batch 400 loss: 0.04405457526445389 accuracy: 99.105\n",
      "Epoch 8 batch 600 loss: 0.02729099430143833 accuracy: 99.03\n",
      "Epoch 9 batch 200 loss: 0.007629116997122765 accuracy: 99.34\n",
      "Epoch 9 batch 400 loss: 0.007151912897825241 accuracy: 99.3025\n",
      "Epoch 9 batch 600 loss: 0.026102609932422638 accuracy: 99.23333333333333\n",
      "Duration:1.5208299199740092\n"
     ]
    }
   ],
   "source": [
    "import time\n",
    "start_time = time.time()\n",
    "\n",
    "epochs = 10\n",
    "train_losse = []\n",
    "test_losses = []\n",
    "train_correct = []\n",
    "test_correct = []\n",
    "\n",
    "def train():\n",
    "    for i in range(epochs):\n",
    "        tr_corr, tst_corr = 0,0\n",
    "        \n",
    "        for b, (x_train, y_train) in enumerate(train_loader):\n",
    "            b+=1\n",
    "            y_pred = model(x_train.view(100,-1))\n",
    "            loss = criterion(y_pred, y_train)\n",
    "            predicted = torch.max(y_pred.data,1)[1]\n",
    "            batch_corr = (predicted==y_train).sum()\n",
    "            tr_corr += batch_corr\n",
    "            \n",
    "            optimizer.zero_grad()\n",
    "            loss.backward()\n",
    "            optimizer.step()\n",
    "            \n",
    "            if b%200==0:\n",
    "                acc = tr_corr.item()*100/(100*b)\n",
    "                print(f'Epoch {i} batch {b} loss: {loss.item()} accuracy: {acc}')\n",
    "                \n",
    "        train_losse.append(loss)\n",
    "        train_correct.append(tr_corr)\n",
    "        \n",
    "    with torch.no_grad():\n",
    "        for b, (x_test, y_test) in enumerate(test_loader):\n",
    "            y_val = model(x_test.view(100,-1))\n",
    "            \n",
    "            predicted = torch.max(y_val.data, 1)[1]\n",
    "            tst_corr +=(predicted==y_test).sum()\n",
    "            \n",
    "        loss = criterion(y_val, y_test)\n",
    "        test_losses.append(loss)\n",
    "        test_correct.append(tst_corr)\n",
    "        \n",
    "train()\n",
    "total_time = time.time()-start_time\n",
    "print(f'Duration:{total_time/60}')"
   ]
  },
  {
   "cell_type": "code",
   "execution_count": 9,
   "id": "f486eb64",
   "metadata": {},
   "outputs": [
    {
     "data": {
      "text/plain": [
       "<matplotlib.legend.Legend at 0x2b68b6c4780>"
      ]
     },
     "execution_count": 9,
     "metadata": {},
     "output_type": "execute_result"
    },
    {
     "data": {
      "image/png": "[encoded data removed]",
      "text/plain": [
       "<Figure size 432x288 with 1 Axes>"
      ]
     },
     "metadata": {
      "needs_background": "light"
     },
     "output_type": "display_data"
    }
   ],
   "source": [
    "plt.plot(train_losse, label = 'train loss')\n",
    "plt.plot(test_losses, label = 'test/validation loss')\n",
    "plt.legend()\n"
   ]
  },
  {
   "cell_type": "code",
   "execution_count": 11,
   "id": "f79668e6",
   "metadata": {},
   "outputs": [],
   "source": [
    "# train_accuracy = [t/100 for t in tr_corr]\n",
    "# test_accuracy = [t/100 for t in tst_corr]\n",
    "# plt.plot(train_accuracy, label = 'train accuracy')\n",
    "# plt.plot(test_accuracy, label = 'train accuracy')\n",
    "# plt.legend()"
   ]
  },
  {
   "cell_type": "code",
   "execution_count": 12,
   "id": "06ca71ae",
   "metadata": {},
   "outputs": [],
   "source": [
    "#new unseen data\n",
    "\n",
    "test_data_load = DataLoader(test_data, batch_size= 1000, shuffle = False)\n",
    "with torch.no_grad():\n",
    "    correct = 0\n",
    "    \n",
    "    for x_test, y_test in test_data_load:\n",
    "        y_val = model(x_test.view(len(x_test), -1))\n",
    "        predicted = torch.max(y_val,1 )[1]\n",
    "        correct += (predicted==y_test).sum()\n",
    "        \n"
   ]
  },
  {
   "cell_type": "code",
   "execution_count": 13,
   "id": "ce538fe1",
   "metadata": {},
   "outputs": [
    {
     "data": {
      "text/plain": [
       "0.976"
      ]
     },
     "execution_count": 13,
     "metadata": {},
     "output_type": "execute_result"
    }
   ],
   "source": [
    "correct.item()/len(test_data)"
   ]
  },
  {
   "cell_type": "code",
   "execution_count": 14,
   "id": "f58b6385",
   "metadata": {
    "scrolled": true
   },
   "outputs": [
    {
     "data": {
      "text/plain": [
       "array([[ 101,    0,    1,    0,    1,    0,    0,    0,    0,    0],\n",
       "       [   1,  119,    0,    0,    0,    0,    0,    0,    0,    0],\n",
       "       [   0,    0,   93,    0,    0,    0,    0,    4,    0,    0],\n",
       "       [   0,    0,    1,  100,    0,    0,    1,    0,    0,    0],\n",
       "       [   0,    0,    0,    0,   88,    0,    0,    0,    0,    1],\n",
       "       [   0,    0,    1,    0,    0,   83,    1,    0,    1,    0],\n",
       "       [   0,    0,    0,    0,    0,    2,   99,    0,    0,    0],\n",
       "       [   0,    0,    0,    0,    2,    0,    0,  111,    0,    0],\n",
       "       [   0,    0,    3,    2,    1,    0,    1,    0,   93,    0],\n",
       "       [   0,    0,    0,    0,    0,    0,    0,    0,    0,   89]],\n",
       "      dtype=int64)"
      ]
     },
     "execution_count": 14,
     "metadata": {},
     "output_type": "execute_result"
    }
   ],
   "source": [
    "confusion_matrix(predicted.view(-1), y_test.view(-1))"
   ]
  },
  {
   "cell_type": "markdown",
   "id": "0affa53a",
   "metadata": {},
   "source": [
    "## Actual CNN starts now\n",
    "\n",
    "The imports stay the same"
   ]
  },
  {
   "cell_type": "code",
   "execution_count": 15,
   "id": "57b20c0d",
   "metadata": {},
   "outputs": [],
   "source": [
    "transform = transforms.ToTensor()\n",
    "train_data = datasets.MNIST(root='./', train = True, download = True, transform = transform)\n",
    "test_data = datasets.MNIST(root='./', train = False, download=True, transform=transform)\n",
    "\n",
    "batch_size = 10\n",
    "train_loader = DataLoader(train_data, batch_size=batch_size, shuffle = True)\n",
    "test_loader = DataLoader(test_data, batch_size = batch_size, shuffle = False)"
   ]
  },
  {
   "cell_type": "code",
   "execution_count": 16,
   "id": "f7175d18",
   "metadata": {},
   "outputs": [
    {
     "data": {
      "text/plain": [
       "torch.Size([1, 16, 6, 6])"
      ]
     },
     "execution_count": 16,
     "metadata": {},
     "output_type": "execute_result"
    }
   ],
   "source": [
    "#play around\n",
    "\n",
    "conv1 = nn.Conv2d(1,6,3,1, padding = 1) #channels, out_features, kernel_size, step_size\n",
    "conv2 = nn.Conv2d(6,16,3,1)\n",
    "\n",
    "for i, (x_train, y_train) in enumerate(train_data):\n",
    "    break\n",
    "    \n",
    "x = x_train.view(1,1,28,28)\n",
    "x = F.relu(conv1(x))\n",
    "x = F.max_pool2d(x,2,2)\n",
    "x = F.relu(conv2(x))\n",
    "x = F.max_pool2d(x,2,2)\n",
    "x.shape"
   ]
  },
  {
   "cell_type": "code",
   "execution_count": 17,
   "id": "caf23de0",
   "metadata": {},
   "outputs": [
    {
     "data": {
      "text/plain": [
       "torch.Size([1, 576])"
      ]
     },
     "execution_count": 17,
     "metadata": {},
     "output_type": "execute_result"
    }
   ],
   "source": [
    "x.view(-1,16*6*6).shape"
   ]
  },
  {
   "cell_type": "code",
   "execution_count": 18,
   "id": "17657bff",
   "metadata": {},
   "outputs": [],
   "source": [
    "class ConvoNetwork(nn.Module):\n",
    "    def __init__(self):\n",
    "        super().__init__()\n",
    "        self.conv1 = nn.Conv2d(1,6,3,1)\n",
    "        self.conv2 = nn.Conv2d(6,16,3,1)\n",
    "        \n",
    "        self.fc1 = nn.Linear(5*5*16, 120)\n",
    "        self.fc2 = nn.Linear(120, 80)\n",
    "        self.fc3 = nn.Linear(80,10)\n",
    "        \n",
    "    def forward(self,x):\n",
    "        x = F.relu(self.conv1(x))\n",
    "        x = F.max_pool2d(x,2,2)\n",
    "        x = F.relu(self.conv2(x))\n",
    "        x = F.max_pool2d(x,2,2)\n",
    "        x = x.view(-1,16*5*5)\n",
    "        x = F.relu(self.fc1(x))\n",
    "        x = F.relu(self.fc2(x))\n",
    "        x = self.fc3(x)\n",
    "        \n",
    "        return F.log_softmax(x,dim=1)        "
   ]
  },
  {
   "cell_type": "code",
   "execution_count": 19,
   "id": "94d773bb",
   "metadata": {},
   "outputs": [
    {
     "name": "stdout",
     "output_type": "stream",
     "text": [
      "54\n",
      "6\n",
      "864\n",
      "16\n",
      "48000\n",
      "120\n",
      "9600\n",
      "80\n",
      "800\n",
      "10\n"
     ]
    }
   ],
   "source": [
    "model = ConvoNetwork()\n",
    "\n",
    "for param in model.parameters():\n",
    "    print(param.numel())"
   ]
  },
  {
   "cell_type": "code",
   "execution_count": 20,
   "id": "932570bf",
   "metadata": {},
   "outputs": [
    {
     "name": "stdout",
     "output_type": "stream",
     "text": [
      "Epoch 0, Batch: 0, Loss: 2.3176300525665283\n",
      "Epoch 0, Batch: 600, Loss: 0.2516046166419983\n",
      "Epoch 0, Batch: 1200, Loss: 0.030596276745200157\n",
      "Epoch 0, Batch: 1800, Loss: 0.025150394067168236\n",
      "Epoch 0, Batch: 2400, Loss: 0.8244816064834595\n",
      "Epoch 0, Batch: 3000, Loss: 0.022961150854825974\n",
      "Epoch 0, Batch: 3600, Loss: 0.0040255202911794186\n",
      "Epoch 0, Batch: 4200, Loss: 0.0014440255472436547\n",
      "Epoch 0, Batch: 4800, Loss: 0.005586707498878241\n",
      "Epoch 0, Batch: 5400, Loss: 0.21500372886657715\n",
      "Epoch 1, Batch: 0, Loss: 0.015570727176964283\n",
      "Epoch 1, Batch: 600, Loss: 0.0682571530342102\n",
      "Epoch 1, Batch: 1200, Loss: 0.01784384436905384\n",
      "Epoch 1, Batch: 1800, Loss: 0.033206965774297714\n",
      "Epoch 1, Batch: 2400, Loss: 0.13020098209381104\n",
      "Epoch 1, Batch: 3000, Loss: 0.026346910744905472\n",
      "Epoch 1, Batch: 3600, Loss: 0.007125826086848974\n",
      "Epoch 1, Batch: 4200, Loss: 0.0001094170511350967\n",
      "Epoch 1, Batch: 4800, Loss: 0.0012267889687791467\n",
      "Epoch 1, Batch: 5400, Loss: 0.011105889454483986\n",
      "Epoch 2, Batch: 0, Loss: 0.00013061569188721478\n",
      "Epoch 2, Batch: 600, Loss: 0.041172485798597336\n",
      "Epoch 2, Batch: 1200, Loss: 0.010656827129423618\n",
      "Epoch 2, Batch: 1800, Loss: 0.005437178537249565\n",
      "Epoch 2, Batch: 2400, Loss: 0.0017290761461481452\n",
      "Epoch 2, Batch: 3000, Loss: 0.017267802730202675\n",
      "Epoch 2, Batch: 3600, Loss: 0.01659369096159935\n",
      "Epoch 2, Batch: 4200, Loss: 0.04420732706785202\n",
      "Epoch 2, Batch: 4800, Loss: 0.003618928138166666\n",
      "Epoch 2, Batch: 5400, Loss: 0.018765613436698914\n",
      "Epoch 3, Batch: 0, Loss: 0.0350661501288414\n",
      "Epoch 3, Batch: 600, Loss: 0.00022496827295981348\n",
      "Epoch 3, Batch: 1200, Loss: 0.017507366836071014\n",
      "Epoch 3, Batch: 1800, Loss: 0.011139243841171265\n",
      "Epoch 3, Batch: 2400, Loss: 0.012560417875647545\n",
      "Epoch 3, Batch: 3000, Loss: 0.002319787861779332\n",
      "Epoch 3, Batch: 3600, Loss: 0.04097495600581169\n",
      "Epoch 3, Batch: 4200, Loss: 0.00014597387053072453\n",
      "Epoch 3, Batch: 4800, Loss: 0.049483709037303925\n",
      "Epoch 3, Batch: 5400, Loss: 0.5021618008613586\n",
      "Epoch 4, Batch: 0, Loss: 0.06006463244557381\n",
      "Epoch 4, Batch: 600, Loss: 0.00028054925496689975\n",
      "Epoch 4, Batch: 1200, Loss: 0.03357163071632385\n",
      "Epoch 4, Batch: 1800, Loss: 1.6235939256148413e-05\n",
      "Epoch 4, Batch: 2400, Loss: 0.1525089591741562\n",
      "Epoch 4, Batch: 3000, Loss: 0.00016301192226819694\n",
      "Epoch 4, Batch: 3600, Loss: 0.38491135835647583\n",
      "Epoch 4, Batch: 4200, Loss: 5.614707333734259e-06\n",
      "Epoch 4, Batch: 4800, Loss: 0.05796079710125923\n",
      "Epoch 4, Batch: 5400, Loss: 0.0009626623359508812\n",
      "Training Took 4.496252759297689 minutes\n"
     ]
    }
   ],
   "source": [
    "criterion = nn.CrossEntropyLoss()\n",
    "optimizer = torch.optim.Adam(model.parameters(), lr=1e-3)\n",
    "\n",
    "import time\n",
    "start_time = time.time()\n",
    "\n",
    "\n",
    "epochs = 5\n",
    "train_losses, test_losses = [],[]\n",
    "train_correct, test_correct = [], []\n",
    "\n",
    "\n",
    "for i in range(epochs):\n",
    "    trn_corr, tst_corr = 0,0\n",
    "    \n",
    "    for b, (x_train, y_train) in enumerate(train_loader):\n",
    "        y_pred = model(x_train)\n",
    "        loss = criterion(y_pred, y_train)\n",
    "\n",
    "        predicted = torch.max(y_pred.data, 1)[1]\n",
    "        batch_corr = (predicted==y_train).sum()\n",
    "        trn_corr += batch_corr\n",
    "\n",
    "        optimizer.zero_grad()\n",
    "        loss.backward()\n",
    "        optimizer.step()\n",
    "\n",
    "        if b%600==0:\n",
    "            print(f'Epoch {i}, Batch: {b}, Loss: {loss.item()}')\n",
    "\n",
    "    train_losses.append(loss)\n",
    "    train_correct.append(trn_corr)\n",
    "\n",
    "    with torch.no_grad():\n",
    "        for b, (x_test, y_test) in enumerate(test_loader):\n",
    "            y_val = model(x_test)\n",
    "            \n",
    "            predicted = torch.max(y_val.data,1)[1]\n",
    "            tst_corr += (predicted==y_test).sum()\n",
    "            \n",
    "        loss = criterion(y_val, y_test)\n",
    "        test_losses.append(loss)\n",
    "        test_correct.append(tst_corr)\n",
    "    \n",
    "    \n",
    "current_time = time.time()\n",
    "total = current_time-start_time\n",
    "print(f'Training Took {total/60} minutes')"
   ]
  },
  {
   "cell_type": "code",
   "execution_count": 21,
   "id": "f3e53bc8",
   "metadata": {},
   "outputs": [
    {
     "data": {
      "text/plain": [
       "[<matplotlib.lines.Line2D at 0x2b68b60d390>]"
      ]
     },
     "execution_count": 21,
     "metadata": {},
     "output_type": "execute_result"
    },
    {
     "data": {
      "image/png": "[encoded data removed]",
      "text/plain": [
       "<Figure size 432x288 with 1 Axes>"
      ]
     },
     "metadata": {
      "needs_background": "light"
     },
     "output_type": "display_data"
    }
   ],
   "source": [
    "plt.plot(train_losses)\n",
    "plt.plot(test_losses)"
   ]
  },
  {
   "cell_type": "code",
   "execution_count": 22,
   "id": "55b5d9c3",
   "metadata": {},
   "outputs": [],
   "source": [
    "test_load_new = DataLoader(test_data, batch_size = 10000, shuffle = False)\n",
    "correct = 0\n",
    "for x_test, y_test in test_load_new:\n",
    "    y_val = model(x_test)\n",
    "    predicted = torch.max(y_val, 1)[1]\n",
    "    correct += (predicted==y_test).sum()\n",
    "    "
   ]
  },
  {
   "cell_type": "code",
   "execution_count": 23,
   "id": "cd5b803d",
   "metadata": {},
   "outputs": [
    {
     "data": {
      "text/plain": [
       "0.9891"
      ]
     },
     "execution_count": 23,
     "metadata": {},
     "output_type": "execute_result"
    }
   ],
   "source": [
    "correct.item()/len(test_data)"
   ]
  },
  {
   "cell_type": "code",
   "execution_count": 24,
   "id": "db47389b",
   "metadata": {},
   "outputs": [
    {
     "data": {
      "text/plain": [
       "<matplotlib.image.AxesImage at 0x2b688267278>"
      ]
     },
     "execution_count": 24,
     "metadata": {},
     "output_type": "execute_result"
    },
    {
     "data": {
      "image/png": "[encoded data removed]",
      "text/plain": [
       "<Figure size 432x288 with 1 Axes>"
      ]
     },
     "metadata": {
      "needs_background": "light"
     },
     "output_type": "display_data"
    }
   ],
   "source": [
    "#let's try running a single image\n",
    "\n",
    "plt.imshow(test_data[1234][0].reshape(28,28))\n"
   ]
  },
  {
   "cell_type": "code",
   "execution_count": 25,
   "id": "299c0feb",
   "metadata": {},
   "outputs": [],
   "source": [
    "model.eval()\n",
    "with torch.no_grad():\n",
    "    new_prediction = model(test_data[1234][0].view(1,1,28,28))"
   ]
  },
  {
   "cell_type": "code",
   "execution_count": 26,
   "id": "7b4ae3b7",
   "metadata": {},
   "outputs": [
    {
     "data": {
      "text/plain": [
       "tensor(8)"
      ]
     },
     "execution_count": 26,
     "metadata": {},
     "output_type": "execute_result"
    }
   ],
   "source": [
    "new_prediction.argmax()"
   ]
  },
  {
   "cell_type": "code",
   "execution_count": 36,
   "id": "baa7fb73",
   "metadata": {},
   "outputs": [
    {
     "data": {
      "text/plain": [
       "0"
      ]
     },
     "execution_count": 36,
     "metadata": {},
     "output_type": "execute_result"
    }
   ],
   "source": [
    "import warnings#\n",
    "import os\n",
    "import pandas as pd\n",
    "warnings.filterwarnings('ignore')\n",
    "\n",
    "path = '../Data/CATS_DOGS/CATS_DOGS'\n",
    "# path = './'\n",
    "img_names = []\n",
    "for folder,subfolders,filenames in os.walk(path):\n",
    "    for ing in filenames:\n",
    "        break\n",
    "        img_names.append(folder+'/'+img)\n",
    "        \n",
    "len(img_names)"
   ]
  },
  {
   "cell_type": "code",
   "execution_count": 38,
   "id": "3f87ff33",
   "metadata": {},
   "outputs": [
    {
     "ename": "ValueError",
     "evalue": "Cannot describe a DataFrame without columns",
     "output_type": "error",
     "traceback": [
      "\u001b[1;31m---------------------------------------------------------------------------\u001b[0m",
      "\u001b[1;31mValueError\u001b[0m                                Traceback (most recent call last)",
      "\u001b[1;32m<ipython-input-38-343b26004266>\u001b[0m in \u001b[0;36m<module>\u001b[1;34m\u001b[0m\n\u001b[0;32m     11\u001b[0m \u001b[1;33m\u001b[0m\u001b[0m\n\u001b[0;32m     12\u001b[0m \u001b[0mdf\u001b[0m \u001b[1;33m=\u001b[0m \u001b[0mpd\u001b[0m\u001b[1;33m.\u001b[0m\u001b[0mDataFrame\u001b[0m\u001b[1;33m(\u001b[0m\u001b[0mimg_size\u001b[0m\u001b[1;33m)\u001b[0m\u001b[1;33m\u001b[0m\u001b[1;33m\u001b[0m\u001b[0m\n\u001b[1;32m---> 13\u001b[1;33m \u001b[0mdf\u001b[0m\u001b[1;33m.\u001b[0m\u001b[0mdescribe\u001b[0m\u001b[1;33m(\u001b[0m\u001b[1;33m)\u001b[0m\u001b[1;33m\u001b[0m\u001b[1;33m\u001b[0m\u001b[0m\n\u001b[0m",
      "\u001b[1;32m~\\anaconda3\\envs\\pytorch\\lib\\site-packages\\pandas\\core\\generic.py\u001b[0m in \u001b[0;36mdescribe\u001b[1;34m(self, percentiles, include, exclude, datetime_is_numeric)\u001b[0m\n\u001b[0;32m   9978\u001b[0m         \"\"\"\n\u001b[0;32m   9979\u001b[0m         \u001b[1;32mif\u001b[0m \u001b[0mself\u001b[0m\u001b[1;33m.\u001b[0m\u001b[0mndim\u001b[0m \u001b[1;33m==\u001b[0m \u001b[1;36m2\u001b[0m \u001b[1;32mand\u001b[0m \u001b[0mself\u001b[0m\u001b[1;33m.\u001b[0m\u001b[0mcolumns\u001b[0m\u001b[1;33m.\u001b[0m\u001b[0msize\u001b[0m \u001b[1;33m==\u001b[0m \u001b[1;36m0\u001b[0m\u001b[1;33m:\u001b[0m\u001b[1;33m\u001b[0m\u001b[1;33m\u001b[0m\u001b[0m\n\u001b[1;32m-> 9980\u001b[1;33m             \u001b[1;32mraise\u001b[0m \u001b[0mValueError\u001b[0m\u001b[1;33m(\u001b[0m\u001b[1;34m\"Cannot describe a DataFrame without columns\"\u001b[0m\u001b[1;33m)\u001b[0m\u001b[1;33m\u001b[0m\u001b[1;33m\u001b[0m\u001b[0m\n\u001b[0m\u001b[0;32m   9981\u001b[0m \u001b[1;33m\u001b[0m\u001b[0m\n\u001b[0;32m   9982\u001b[0m         \u001b[1;32mif\u001b[0m \u001b[0mpercentiles\u001b[0m \u001b[1;32mis\u001b[0m \u001b[1;32mnot\u001b[0m \u001b[1;32mNone\u001b[0m\u001b[1;33m:\u001b[0m\u001b[1;33m\u001b[0m\u001b[1;33m\u001b[0m\u001b[0m\n",
      "\u001b[1;31mValueError\u001b[0m: Cannot describe a DataFrame without columns"
     ]
    }
   ],
   "source": [
    "img_size = []\n",
    "rejected = []\n",
    "\n",
    "for item in img_names:\n",
    "    try:\n",
    "        with Image.open(item) as img:\n",
    "            img_size.append(img.size)\n",
    "    except:\n",
    "        rejected.append(item)\n",
    "            \n",
    "    \n",
    "df = pd.DataFrame(img_size)\n",
    "df.describe()"
   ]
  },
  {
   "cell_type": "code",
   "execution_count": null,
   "id": "aaf744cd",
   "metadata": {},
   "outputs": [
    {
     "name": "stdout",
     "output_type": "stream",
     "text": [
      "Files already downloaded and verified\n",
      "Files already downloaded and verified\n",
      "Autoencoder(\n",
      "  (enc1): Conv2d(3, 8, kernel_size=(3, 3), stride=(1, 1))\n",
      "  (enc2): Conv2d(8, 4, kernel_size=(3, 3), stride=(1, 1))\n",
      "  (dec1): ConvTranspose2d(4, 8, kernel_size=(3, 3), stride=(1, 1))\n",
      "  (dec2): ConvTranspose2d(8, 3, kernel_size=(3, 3), stride=(1, 1))\n",
      ")\n",
      "cuda:0\n",
      "Epoch 1 of 10, Train Loss: 0.154\n"
     ]
    }
   ],
   "source": [
    "import os\n",
    "import torch\n",
    "import torchvision\n",
    "import torch.nn as nn\n",
    "import torchvision.transforms as transforms\n",
    "import torch.optim as optim\n",
    "import torch.nn.functional as F\n",
    "import matplotlib.pyplot as plt\n",
    "\n",
    "from torchvision import datasets\n",
    "from torch.utils.data import DataLoader\n",
    "from torchvision.utils import save_image\n",
    "\n",
    "num_epochs = 10\n",
    "learning_rate = 1e-3\n",
    "batch_size = 32\n",
    "\n",
    "transform = transforms.Compose([\n",
    "    transforms.ToTensor(),\n",
    "    transforms.Normalize((0.5,0.5,0.5), (0.5,0.5,0.5))\n",
    "])\n",
    "\n",
    "trainset = datasets.CIFAR10(\n",
    "    root='./data',\n",
    "    train=True, \n",
    "    download=True,\n",
    "    transform=transform\n",
    ")\n",
    "testset = datasets.CIFAR10(\n",
    "    root='./data',\n",
    "    train=False,\n",
    "    download=True,\n",
    "    transform=transform\n",
    ")\n",
    "trainloader = DataLoader(\n",
    "    trainset, \n",
    "    batch_size=batch_size,\n",
    "    shuffle=True\n",
    ")\n",
    "testloader = DataLoader(\n",
    "    testset, \n",
    "    batch_size=batch_size, \n",
    "    shuffle=True\n",
    ")\n",
    "\n",
    "def get_device():\n",
    "    if torch.cuda.is_available():\n",
    "        device = 'cuda:0'\n",
    "    else:\n",
    "        device = 'cpu'\n",
    "    return device\n",
    "def make_dir():\n",
    "    image_dir = 'Conv_CIFAR10_Images'\n",
    "    if not os.path.exists(image_dir):\n",
    "        os.makedirs(image_dir)\n",
    "def save_decoded_image(img, name):\n",
    "\n",
    "    img = img.view(img.size(0), 3, 32, 32)\n",
    "    save_image(img, name)\n",
    "\n",
    "class Autoencoder(nn.Module):\n",
    "    def __init__(self):\n",
    "        super().__init__()\n",
    "\n",
    "        #encoder\n",
    "        self.enc1 = nn.Conv2d(in_channels = 3, out_channels = 8, kernel_size = 3)\n",
    "        \n",
    "        self.enc2 = nn.Conv2d(in_channels = 8, out_channels = 4, kernel_size = 3)\n",
    "\n",
    "        #decoder\n",
    "        self.dec1 = nn.ConvTranspose2d(in_channels=4, out_channels=8, kernel_size = 3)\n",
    "\n",
    "        self.dec2 = nn.ConvTranspose2d(in_channels=8, out_channels = 3, kernel_size = 3)\n",
    "\n",
    "    def forward(self,x):\n",
    "        x = F.relu(self.enc1(x))\n",
    "        x = F.relu(self.enc2(x))\n",
    "        x = F.relu(self.dec1(x))\n",
    "        x = F.relu(self.dec2(x))\n",
    "        return x\n",
    "\n",
    "def train(net, trainloader, num_epochs):\n",
    "    train_loss = []\n",
    "    for epoch in range(num_epochs):\n",
    "        running_loss = 0\n",
    "        for data in trainloader:\n",
    "            img, _ = data\n",
    "            img = img.to(device)\n",
    "            optimizer.zero_grad()\n",
    "            outputs = net(img)\n",
    "            loss = criterion(outputs, img)\n",
    "            loss.backward()\n",
    "            optimizer.step()\n",
    "            running_loss += loss.item()\n",
    "\n",
    "        loss = running_loss/len(trainloader)\n",
    "        train_loss.append(loss)\n",
    "        print('Epoch {} of {}, Train Loss: {:.3f}'.format(epoch+1, num_epochs, loss))\n",
    "\n",
    "        if epoch % 10 == 0:\n",
    "            save_decoded_image(img.cpu().data, name = './Conv_CIFAR10_Images_original{}.png'.format(epoch))\n",
    "            save_decoded_image(outputs.cpu().data, name='./Conv_CIFAR10_Images_decoded{}.png'.format(epoch))\n",
    "\n",
    "    return train_loss\n",
    "\n",
    "def test_image_reconstruction(net,testloader):\n",
    "    for batch in testloader:\n",
    "        img, _ = batch\n",
    "        img = img.to(device)\n",
    "        outputs = net(img)\n",
    "        outputs = outputs.view(outputs.size(0), 3, 32).cpu().data\n",
    "        save_image(outputs, 'conv_cifar10_reconstructed_image.png')\n",
    "        break\n",
    "\n",
    "net = Autoencoder()\n",
    "print(net)\n",
    "\n",
    "criterion = nn.MSELoss()\n",
    "optimizer = optim.Adam(net.parameters(), lr = learning_rate)\n",
    "\n",
    "device = get_device()\n",
    "print(device)\n",
    "net.to(device)\n",
    "train_loss = train(net, trainloader, num_epochs)\n",
    "\n",
    "plt.figure()\n",
    "plt.plot(train_loss)\n",
    "plt.title('Train Loss')\n",
    "plt.xlabel('Epochs')\n",
    "plt.ylabel('Loss')\n",
    "test_image_reconstruction(net, testloader)\n"
   ]
  },
  {
   "cell_type": "code",
   "execution_count": null,
   "id": "07d4668e",
   "metadata": {},
   "outputs": [],
   "source": []
  }
 ],
 "metadata": {
  "kernelspec": {
   "display_name": "Python 3",
   "language": "python",
   "name": "python3"
  },
  "language_info": {
   "codemirror_mode": {
    "name": "ipython",
    "version": 3
   },
   "file_extension": ".py",
   "mimetype": "text/x-python",
   "name": "python",
   "nbconvert_exporter": "python",
   "pygments_lexer": "ipython3",
   "version": "3.6.13"
  }
 },
 "nbformat": 4,
 "nbformat_minor": 5
}
